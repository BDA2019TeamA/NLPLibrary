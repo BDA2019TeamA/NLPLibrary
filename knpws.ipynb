{
 "cells": [
  {
   "cell_type": "code",
   "execution_count": 1,
   "metadata": {},
   "outputs": [],
   "source": [
    "from pyknp import Juman, KNP\n",
    "from crepedb import CrepeDB\n",
    "from nlplib_pyknp2 import *\n",
    "import pandas as pd"
   ]
  },
  {
   "cell_type": "code",
   "execution_count": null,
   "metadata": {},
   "outputs": [
    {
     "name": "stderr",
     "output_type": "stream",
     "text": [
      "DEBUG:root:フレンチのスープと横須賀のカレーと松坂牛の牛丼はとても美味しい。とても素晴らしい牛肉で、全く飽きない味だ。私はかなり飽きた。\n",
      "\n",
      "Analysis is done ignoring \"\\n\".\n"
     ]
    }
   ],
   "source": [
    "knp = KNP(option = '-tab -anaphora', jumanpp=True)\n",
    "#text = \"\"\"肉汁がドバっと溢れるタイプのとんかつではなく、ホロり優しく噛み切れる柔らかいサッパリとんかつ。平たく大きいので、叩いて薄くした感じなのかな？と思いきや、食べ応えのある適度な厚さが保たれている。味としては、豚の味と香りがしっかりと包み込まれている王道とんかつ\n",
    "#\"\"\"\n",
    "text = \"\"\"フレンチのスープと横須賀のカレーと松坂牛の牛丼はとても美味しい。とても素晴らしい牛肉で、全く飽きない味だ。私はかなり飽きた。\n",
    "\"\"\"\n",
    "#text = \"\"\"オーストラリアの広大な大地で、抗生物質等を全く使用していない飼料により育てられた、黒毛和牛血統の黒牛を使用したローストビーフ。赤身の旨みが引き立っています。豪州黒牛は、女性に特に必要とされる亜鉛、鉄、ビタミンＢを豊富に含んでおり、ヘルシーフードとして注目されております。\n",
    "#\"\"\"\n",
    "#text = \"\"\"噛むとカリっ、サクっと気持ちの良い音が聞こえ、ふわふわジューシーな鶏肉が顔を出す。香ばしい衣(パン粉)の味が広がり、すぐにアツアツの甘い肉汁が染み出し、衣と一緒になって更に美味しさが増す。\n",
    "#\"\"\"\n",
    "\n",
    "comment_list = pyknp_make_commentlist(text, knp, lines_split=False)\n",
    "pyknp_dependency_visualize(comment_list, withstr=True)"
   ]
  },
  {
   "cell_type": "code",
   "execution_count": null,
   "metadata": {},
   "outputs": [],
   "source": [
    "pyknp_morph2df(comment_list, output=True)"
   ]
  },
  {
   "cell_type": "code",
   "execution_count": null,
   "metadata": {},
   "outputs": [],
   "source": [
    "pyknp_chunk2df(comment_list, output=True)"
   ]
  },
  {
   "cell_type": "code",
   "execution_count": null,
   "metadata": {
    "scrolled": true
   },
   "outputs": [],
   "source": [
    "pyknp_tag2df(comment_list, output=True)"
   ]
  },
  {
   "cell_type": "code",
   "execution_count": null,
   "metadata": {},
   "outputs": [],
   "source": [
    "pyknp_search_AdjectiveNoun(comment_list)"
   ]
  },
  {
   "cell_type": "code",
   "execution_count": null,
   "metadata": {},
   "outputs": [],
   "source": [
    "pyknp_search_NounAdjective(comment_list)"
   ]
  },
  {
   "cell_type": "code",
   "execution_count": null,
   "metadata": {},
   "outputs": [],
   "source": [
    "pyknp_search_VerbNoun(comment_list)"
   ]
  },
  {
   "cell_type": "code",
   "execution_count": null,
   "metadata": {},
   "outputs": [],
   "source": [
    "pyknp_search_NounVerb(comment_list)"
   ]
  },
  {
   "cell_type": "code",
   "execution_count": null,
   "metadata": {},
   "outputs": [],
   "source": []
  }
 ],
 "metadata": {
  "kernelspec": {
   "display_name": "Python 3",
   "language": "python",
   "name": "python3"
  },
  "language_info": {
   "codemirror_mode": {
    "name": "ipython",
    "version": 3
   },
   "file_extension": ".py",
   "mimetype": "text/x-python",
   "name": "python",
   "nbconvert_exporter": "python",
   "pygments_lexer": "ipython3",
   "version": "3.7.3"
  }
 },
 "nbformat": 4,
 "nbformat_minor": 2
}
