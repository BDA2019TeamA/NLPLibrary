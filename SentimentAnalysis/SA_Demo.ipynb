{
 "cells": [
  {
   "cell_type": "code",
   "execution_count": 1,
   "metadata": {},
   "outputs": [],
   "source": [
    "import SentimentAnalysis as SA\n",
    "import pandas as pd\n",
    "from pyknp import KNP\n",
    "import re"
   ]
  },
  {
   "cell_type": "code",
   "execution_count": 2,
   "metadata": {},
   "outputs": [],
   "source": [
    "text = \"\"\"\n",
    "とにかく、久々にこれだけ美味しくない焼きそばを食べたという感じ。\n",
    "値段もお手軽ではないので、もう行きません\n",
    "\"\"\""
   ]
  },
  {
   "cell_type": "code",
   "execution_count": 3,
   "metadata": {},
   "outputs": [
    {
     "name": "stdout",
     "output_type": "stream",
     "text": [
      "{'焼き蕎麦': -1}\n",
      "手軽だ:辞書に登録されていません\n"
     ]
    }
   ],
   "source": [
    "#レビューの前処理\n",
    "text = re.split('[!?\\t\\n。 ]', text) #改行または句点で区切り配列化\n",
    "while '' in text:         #空行は削除\n",
    "    text.remove('')\n",
    "#単語感情極性対応表の読み込み\n",
    "dic = pd.read_csv(\"score_ja_dic.csv\")\n",
    "#感情分析オブジェクトの生成\n",
    "sa = SA.SentimentAnalysis(dic)\n",
    "#モデルの構築\n",
    "knp = KNP(option = '-tab -anaphora',jumanpp=True)\n",
    "\n",
    "for line in text:\n",
    "    #係受け解析\n",
    "    tuples = sa.select_dependency_structure(knp,line)\n",
    "    #スコアの計算\n",
    "    score = sa.calcScore(tuples)\n",
    "    if score != {}:\n",
    "        print(score)"
   ]
  },
  {
   "cell_type": "code",
   "execution_count": null,
   "metadata": {},
   "outputs": [],
   "source": []
  }
 ],
 "metadata": {
  "kernelspec": {
   "display_name": "Python 3",
   "language": "python",
   "name": "python3"
  },
  "language_info": {
   "codemirror_mode": {
    "name": "ipython",
    "version": 3
   },
   "file_extension": ".py",
   "mimetype": "text/x-python",
   "name": "python",
   "nbconvert_exporter": "python",
   "pygments_lexer": "ipython3",
   "version": "3.7.3"
  }
 },
 "nbformat": 4,
 "nbformat_minor": 2
}
